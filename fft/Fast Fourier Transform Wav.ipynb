{
 "cells": [
  {
   "cell_type": "code",
   "execution_count": 16,
   "metadata": {},
   "outputs": [],
   "source": [
    "import matplotlib as mpl\n",
    "import matplotlib.pyplot as plt\n",
    "import math\n",
    "import functools\n",
    "from scipy.io import wavfile as wav\n",
    "from scipy.fftpack import fft\n",
    "import numpy as np"
   ]
  },
  {
   "cell_type": "code",
   "execution_count": 5,
   "metadata": {
    "scrolled": false
   },
   "outputs": [
    {
     "data": {
      "text/plain": [
       "array([[0.+0.j, 0.+0.j],\n",
       "       [0.+0.j, 0.+0.j],\n",
       "       [0.+0.j, 0.+0.j],\n",
       "       ...,\n",
       "       [0.+0.j, 0.+0.j],\n",
       "       [0.+0.j, 0.+0.j],\n",
       "       [0.+0.j, 0.+0.j]])"
      ]
     },
     "metadata": {},
     "output_type": "display_data"
    },
    {
     "data": {
      "text/plain": [
       "(11485440, 2)"
      ]
     },
     "metadata": {},
     "output_type": "display_data"
    }
   ],
   "source": [
    "rate, data = wav.read('./wav/Mozart-piano-concerto-21.wav')\n",
    "fft_out = fft(data)\n",
    "display(fft_out)\n",
    "display(fft_out.shape)"
   ]
  },
  {
   "cell_type": "code",
   "execution_count": 11,
   "metadata": {},
   "outputs": [
    {
     "name": "stderr",
     "output_type": "stream",
     "text": [
      "/Users/valerian/anaconda2/lib/python2.7/site-packages/scipy/io/wavfile.py:273: WavFileWarning: Chunk (non-data) not understood, skipping it.\n",
      "  WavFileWarning)\n"
     ]
    },
    {
     "data": {
      "text/plain": [
       "array([[ 27.+0.j,   1.+0.j],\n",
       "       [ 28.+0.j,   4.+0.j],\n",
       "       [ 27.+0.j,   1.+0.j],\n",
       "       ...,\n",
       "       [-70.+0.j,  52.+0.j],\n",
       "       [-73.+0.j,  55.+0.j],\n",
       "       [-67.+0.j,  53.+0.j]])"
      ]
     },
     "metadata": {},
     "output_type": "display_data"
    },
    {
     "data": {
      "text/plain": [
       "(34660248, 2)"
      ]
     },
     "metadata": {},
     "output_type": "display_data"
    }
   ],
   "source": []
  },
  {
   "cell_type": "code",
   "execution_count": 23,
   "metadata": {},
   "outputs": [],
   "source": [
    "def merge_in_seconds(filename, seconds=1.0, merge_fn=lambda x,y: x + y):\n",
    "    \"\"\"\n",
    "    args\n",
    "    ----\n",
    "    filename: String - filepath to wav file to sample by merged intervals\n",
    "    seconds: float - the ratio of seconds to group the sound segments into\n",
    "    \"\"\"\n",
    "    rate, data = wav.read(filename)\n",
    "    fft_out = fft(data)\n",
    "    \n",
    "    samples, channels = np.shape(data)\n",
    "    cluster_size = int(math.ceil(rate * seconds))\n",
    "    total_clusters = int(samples // cluster_size)\n",
    "    \n",
    "    merged_array = np.zeros((total_clusters, channels))\n",
    "\n",
    "    for i in range(total_clusters):\n",
    "        start_index = i*cluster_size\n",
    "        end_index = (i*cluster_size) + cluster_size\n",
    "        \n",
    "        cluster_value = functools.reduce(merge_fn, data[start_index:end_index, :])\n",
    "        merged_array[i,:] = cluster_value\n",
    "        \n",
    "    return merged_array"
   ]
  },
  {
   "cell_type": "code",
   "execution_count": 25,
   "metadata": {},
   "outputs": [],
   "source": [
    "merged = merge_in_seconds('./wav/Mozart-piano-concerto-21.wav')\n"
   ]
  },
  {
   "cell_type": "code",
   "execution_count": 26,
   "metadata": {},
   "outputs": [
    {
     "data": {
      "text/plain": [
       "(260, 2)"
      ]
     },
     "execution_count": 26,
     "metadata": {},
     "output_type": "execute_result"
    }
   ],
   "source": [
    "np.shape(merged)"
   ]
  },
  {
   "cell_type": "code",
   "execution_count": 27,
   "metadata": {},
   "outputs": [],
   "source": [
    "rate, data = wav.read('./wav/Mozart-piano-concerto-21.wav')"
   ]
  },
  {
   "cell_type": "code",
   "execution_count": 28,
   "metadata": {},
   "outputs": [],
   "source": [
    "samples, clusters = data.shape"
   ]
  },
  {
   "cell_type": "code",
   "execution_count": 29,
   "metadata": {},
   "outputs": [
    {
     "data": {
      "text/plain": [
       "260"
      ]
     },
     "execution_count": 29,
     "metadata": {},
     "output_type": "execute_result"
    }
   ],
   "source": [
    "samples/rate"
   ]
  },
  {
   "cell_type": "code",
   "execution_count": null,
   "metadata": {},
   "outputs": [],
   "source": []
  }
 ],
 "metadata": {
  "kernelspec": {
   "display_name": "Python 2",
   "language": "python",
   "name": "python2"
  },
  "language_info": {
   "codemirror_mode": {
    "name": "ipython",
    "version": 2
   },
   "file_extension": ".py",
   "mimetype": "text/x-python",
   "name": "python",
   "nbconvert_exporter": "python",
   "pygments_lexer": "ipython2",
   "version": "2.7.15"
  }
 },
 "nbformat": 4,
 "nbformat_minor": 2
}
