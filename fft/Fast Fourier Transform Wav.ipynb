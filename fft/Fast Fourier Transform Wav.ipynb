{
 "cells": [
  {
   "cell_type": "code",
   "execution_count": 1,
   "metadata": {},
   "outputs": [],
   "source": [
    "import matplotlib as mpl\n",
    "import matplotlib.pyplot as plt\n",
    "import math\n",
    "import functools\n",
    "from scipy.io import wavfile as wav\n",
    "from scipy.fftpack import fft\n",
    "import numpy as np\n",
    "import os\n",
    "from os.path import isfile, join"
   ]
  },
  {
   "cell_type": "markdown",
   "metadata": {},
   "source": [
    "## Generate the FFT features\n",
    "Locate .wav files in given directory and save the FFT feature vector in specified folder\n",
    "### Current Params:\n",
    "    - Split .wav file into 1 second chunks\n",
    "    - 1 second chunks merged by summing \n",
    "    - Apply FFT to chunked .wav data"
   ]
  },
  {
   "cell_type": "code",
   "execution_count": 8,
   "metadata": {},
   "outputs": [
    {
     "name": "stderr",
     "output_type": "stream",
     "text": [
      "/Users/valerian/anaconda2/lib/python2.7/site-packages/scipy/io/wavfile.py:273: WavFileWarning: Chunk (non-data) not understood, skipping it.\n",
      "  WavFileWarning)\n"
     ]
    }
   ],
   "source": [
    "# assume we are at music-generation/fft/\n",
    "cwd = os.getcwd()\n",
    "path_dir_wav_files = os.path.join(cwd, 'wav')\n",
    "wav_filepaths = getWavPathsInDir(path_dir_wav_files)\n",
    "recordWavFFTFeatures(wav_filepaths, os.path.join(cwd, 'features'))"
   ]
  },
  {
   "cell_type": "markdown",
   "metadata": {},
   "source": [
    "## Load FFT features\n",
    "Attempt to load the features for each .wav file by searching in the specified folder"
   ]
  },
  {
   "cell_type": "code",
   "execution_count": null,
   "metadata": {},
   "outputs": [],
   "source": [
    "# TODO\n",
    "def LoadFFTFeatures(wav_filepaths, features_folder):\n",
    "    \"\"\"\n",
    "    args\n",
    "    ----\n",
    "    wav_filepaths: [String] - a list of .wav files \n",
    "    features_folder: String - directory path to folder where .npy features saved for .wav files\n",
    "    \n",
    "    returns\n",
    "    ----\n",
    "    { String : np.array } - Dictionnary where keys are the .wav filepath and values are the features loaded from file\n",
    "    \"\"\"\n",
    "    \n",
    "    # use np.load(filename + '.npy')"
   ]
  },
  {
   "cell_type": "code",
   "execution_count": 4,
   "metadata": {},
   "outputs": [],
   "source": [
    "def apply_fft_merge(filepath, seconds=1.0, merge_fn=lambda x,y: x + y):\n",
    "    \"\"\"\n",
    "    args\n",
    "    ----\n",
    "    filepath: String - filepath to wav file to sample by merged intervals\n",
    "    seconds: float - the ratio of seconds to group the sound segments into\n",
    "    \n",
    "    returns\n",
    "    ----\n",
    "    fft_out: np.array - fft transform on the merged wav data\n",
    "    \"\"\"\n",
    "    rate, data = wav.read(filepath)\n",
    "    \n",
    "    samples, channels = np.shape(data)\n",
    "    cluster_size = int(math.ceil(rate * seconds))\n",
    "    total_clusters = int(samples // cluster_size)\n",
    "    \n",
    "    merged_array = np.zeros((total_clusters, channels))\n",
    "\n",
    "    for i in range(total_clusters):\n",
    "        start_index = i*cluster_size\n",
    "        end_index = (i*cluster_size) + cluster_size\n",
    "        \n",
    "        cluster_value = functools.reduce(merge_fn, data[start_index:end_index, :])\n",
    "        merged_array[i,:] = cluster_value\n",
    "    \n",
    "    fft_out = fft(merged_array)\n",
    "    return fft_out"
   ]
  },
  {
   "cell_type": "code",
   "execution_count": 5,
   "metadata": {},
   "outputs": [],
   "source": [
    "def getWavPathsInDir(wd=os.getcwd()):\n",
    "    \"\"\"\n",
    "    args\n",
    "    ----\n",
    "    wd: String - (default: current working dir) the directory to look for .wav files\n",
    "    \n",
    "    returns\n",
    "    ---\n",
    "    wavs_filepaths: [String] - an array of filepaths of .wav files in a directory\n",
    "    \"\"\"\n",
    "    return [os.path.join(wd, filename) for filename in os.listdir(wd) if filename.endswith('.wav')]"
   ]
  },
  {
   "cell_type": "code",
   "execution_count": 6,
   "metadata": {},
   "outputs": [],
   "source": [
    "def recordWavFFTFeatures(wav_filepaths, save_dir):\n",
    "    \"\"\"\n",
    "    args\n",
    "    ----\n",
    "    wav_filepaths: [String] - filepaths to wav file to perform FFT and save as features\n",
    "    save_dir: os.path - the path to a dir to save the features to\n",
    "    \"\"\"\n",
    "\n",
    "    for fp in wav_filepaths:\n",
    "        filename = os.path.basename(fp).replace('.wav', '') #trim the extension\n",
    "        fft_features = apply_fft_merge(fp)\n",
    "        np.save(os.path.join(save_dir, filename), fft_features)"
   ]
  },
  {
   "cell_type": "code",
   "execution_count": null,
   "metadata": {},
   "outputs": [],
   "source": []
  }
 ],
 "metadata": {
  "kernelspec": {
   "display_name": "Python 2",
   "language": "python",
   "name": "python2"
  },
  "language_info": {
   "codemirror_mode": {
    "name": "ipython",
    "version": 2
   },
   "file_extension": ".py",
   "mimetype": "text/x-python",
   "name": "python",
   "nbconvert_exporter": "python",
   "pygments_lexer": "ipython2",
   "version": "2.7.15"
  }
 },
 "nbformat": 4,
 "nbformat_minor": 2
}
